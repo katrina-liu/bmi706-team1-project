{
 "cells": [
  {
   "cell_type": "code",
   "execution_count": 23,
   "id": "0db12818",
   "metadata": {},
   "outputs": [],
   "source": [
    "import pandas as pd"
   ]
  },
  {
   "cell_type": "code",
   "execution_count": 24,
   "id": "f012e91d",
   "metadata": {},
   "outputs": [
    {
     "name": "stdout",
     "output_type": "stream",
     "text": [
      "Index(['gene', 'entrez_id', 'variant', 'disease', 'doid', 'phenotypes',\n",
      "       'drugs', 'assertion_type', 'assertion_direction',\n",
      "       'clinical_significance', 'acmg_codes', 'amp_category', 'nccn_guideline',\n",
      "       'nccn_guideline_version', 'regulatory_approval', 'fda_companion_test',\n",
      "       'assertion_summary', 'assertion_description', 'assertion_id',\n",
      "       'evidence_item_ids', 'variant_id', 'gene_id', 'last_review_date',\n",
      "       'assertion_civic_url', 'evidence_items_civic_url', 'variant_civic_url',\n",
      "       'gene_civic_url', 'is_flagged'],\n",
      "      dtype='object')\n"
     ]
    }
   ],
   "source": [
    "assertion = pd.read_csv('civic/01-Jan-2023-AssertionSummaries.tsv',sep='\\t')\n",
    "print(assertion.columns)"
   ]
  },
  {
   "cell_type": "code",
   "execution_count": 27,
   "id": "67d42090",
   "metadata": {},
   "outputs": [
    {
     "data": {
      "text/html": [
       "<div>\n",
       "<style scoped>\n",
       "    .dataframe tbody tr th:only-of-type {\n",
       "        vertical-align: middle;\n",
       "    }\n",
       "\n",
       "    .dataframe tbody tr th {\n",
       "        vertical-align: top;\n",
       "    }\n",
       "\n",
       "    .dataframe thead th {\n",
       "        text-align: right;\n",
       "    }\n",
       "</style>\n",
       "<table border=\"1\" class=\"dataframe\">\n",
       "  <thead>\n",
       "    <tr style=\"text-align: right;\">\n",
       "      <th></th>\n",
       "      <th>gene</th>\n",
       "      <th>variant</th>\n",
       "      <th>disease</th>\n",
       "      <th>drugs</th>\n",
       "      <th>gene_id</th>\n",
       "      <th>variant_id</th>\n",
       "      <th>assertion_id</th>\n",
       "      <th>amp_category</th>\n",
       "      <th>nccn_guideline</th>\n",
       "    </tr>\n",
       "  </thead>\n",
       "  <tbody>\n",
       "    <tr>\n",
       "      <th>0</th>\n",
       "      <td>ERBB2</td>\n",
       "      <td>Amplification</td>\n",
       "      <td>Her2-receptor Positive Breast Cancer</td>\n",
       "      <td>Trastuzumab</td>\n",
       "      <td>20</td>\n",
       "      <td>18</td>\n",
       "      <td>2</td>\n",
       "      <td>Tier I - Level A</td>\n",
       "      <td>Breast Cancer</td>\n",
       "    </tr>\n",
       "    <tr>\n",
       "      <th>1</th>\n",
       "      <td>ALK</td>\n",
       "      <td>Fusion</td>\n",
       "      <td>Lung Non-small Cell Carcinoma</td>\n",
       "      <td>Crizotinib</td>\n",
       "      <td>1</td>\n",
       "      <td>499</td>\n",
       "      <td>3</td>\n",
       "      <td>Tier I - Level A</td>\n",
       "      <td>Non-Small Cell Lung Cancer</td>\n",
       "    </tr>\n",
       "    <tr>\n",
       "      <th>2</th>\n",
       "      <td>VHL</td>\n",
       "      <td>R167Q (c.500G&gt;A)</td>\n",
       "      <td>Von Hippel-Lindau Disease</td>\n",
       "      <td>NaN</td>\n",
       "      <td>58</td>\n",
       "      <td>1739</td>\n",
       "      <td>4</td>\n",
       "      <td>NaN</td>\n",
       "      <td>NaN</td>\n",
       "    </tr>\n",
       "    <tr>\n",
       "      <th>3</th>\n",
       "      <td>EGFR</td>\n",
       "      <td>L858R</td>\n",
       "      <td>Lung Non-small Cell Carcinoma</td>\n",
       "      <td>Gefitinib,Erlotinib</td>\n",
       "      <td>19</td>\n",
       "      <td>33</td>\n",
       "      <td>5</td>\n",
       "      <td>Tier I - Level A</td>\n",
       "      <td>Non-Small Cell Lung Cancer</td>\n",
       "    </tr>\n",
       "    <tr>\n",
       "      <th>4</th>\n",
       "      <td>EGFR</td>\n",
       "      <td>L858R</td>\n",
       "      <td>Lung Non-small Cell Carcinoma</td>\n",
       "      <td>Afatinib</td>\n",
       "      <td>19</td>\n",
       "      <td>33</td>\n",
       "      <td>6</td>\n",
       "      <td>Tier I - Level A</td>\n",
       "      <td>Non-Small Cell Lung Cancer</td>\n",
       "    </tr>\n",
       "  </tbody>\n",
       "</table>\n",
       "</div>"
      ],
      "text/plain": [
       "    gene           variant                               disease  \\\n",
       "0  ERBB2     Amplification  Her2-receptor Positive Breast Cancer   \n",
       "1    ALK            Fusion         Lung Non-small Cell Carcinoma   \n",
       "2    VHL  R167Q (c.500G>A)             Von Hippel-Lindau Disease   \n",
       "3   EGFR             L858R         Lung Non-small Cell Carcinoma   \n",
       "4   EGFR             L858R         Lung Non-small Cell Carcinoma   \n",
       "\n",
       "                 drugs  gene_id  variant_id  assertion_id      amp_category  \\\n",
       "0          Trastuzumab       20          18             2  Tier I - Level A   \n",
       "1           Crizotinib        1         499             3  Tier I - Level A   \n",
       "2                  NaN       58        1739             4               NaN   \n",
       "3  Gefitinib,Erlotinib       19          33             5  Tier I - Level A   \n",
       "4             Afatinib       19          33             6  Tier I - Level A   \n",
       "\n",
       "               nccn_guideline  \n",
       "0               Breast Cancer  \n",
       "1  Non-Small Cell Lung Cancer  \n",
       "2                         NaN  \n",
       "3  Non-Small Cell Lung Cancer  \n",
       "4  Non-Small Cell Lung Cancer  "
      ]
     },
     "execution_count": 27,
     "metadata": {},
     "output_type": "execute_result"
    }
   ],
   "source": [
    "# just use assertion\n",
    "assertion_filtered = assertion[['gene','variant','disease','drugs',\n",
    "                                'gene_id','variant_id','assertion_id',\n",
    "                                'amp_category','nccn_guideline']]\n",
    "assertion_filtered.head()"
   ]
  },
  {
   "cell_type": "code",
   "execution_count": null,
   "id": "89286e1b",
   "metadata": {},
   "outputs": [],
   "source": []
  }
 ],
 "metadata": {
  "kernelspec": {
   "display_name": "Python 3 (ipykernel)",
   "language": "python",
   "name": "python3"
  },
  "language_info": {
   "codemirror_mode": {
    "name": "ipython",
    "version": 3
   },
   "file_extension": ".py",
   "mimetype": "text/x-python",
   "name": "python",
   "nbconvert_exporter": "python",
   "pygments_lexer": "ipython3",
   "version": "3.9.12"
  }
 },
 "nbformat": 4,
 "nbformat_minor": 5
}
